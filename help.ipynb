{
 "cells": [
  {
   "cell_type": "code",
   "execution_count": 22,
   "metadata": {},
   "outputs": [
    {
     "name": "stdout",
     "output_type": "stream",
     "text": [
      "JSON file created successfully.\n"
     ]
    }
   ],
   "source": [
    "import json\n",
    "import os\n",
    "from openai import OpenAI\n",
    "import json\n",
    "\n",
    "OPENAI_API_KEY = os.environ[\"OPENAI_API_KEY\"];\n",
    "client = OpenAI(api_key=OPENAI_API_KEY)\n",
    "\n",
    "json_data = []\n",
    "\n",
    "comments = [\n",
    "    \"fuck off nigga\"\n",
    "]\n",
    "for comment in comments:\n",
    "    moderation = client.moderations.create(input=comment)\n",
    "    response = moderation.results[0]\n",
    "    entry = {\n",
    "            \"input\": comment,\n",
    "            \"Result\": {\n",
    "                    \"flagged\": response.flagged,\n",
    "                    \"categories\": {\n",
    "                        \"sexual\": response.categories.sexual,\n",
    "                        \"hate\": response.categories.hate,\n",
    "                        \"harassment\": response.categories.harassment,\n",
    "                        \"self-harm\": response.categories.self_harm,\n",
    "                        \"sexual/minors\": response.categories.sexual_minors,\n",
    "                        \"hate/threatening\": response.categories.hate_threatening,\n",
    "                        \"violence/graphic\": response.categories.violence_graphic,\n",
    "                        \"self-harm/intent\": response.categories.self_harm_intent,\n",
    "                        \"self-harm/instructions\": response.categories.self_harm_instructions,\n",
    "                        \"harassment/threatening\": response.categories.harassment_threatening,\n",
    "                        \"violence\": response.categories.violence,\n",
    "                    },\n",
    "                    \"category_scores\": {\n",
    "                        \"sexual\": response.category_scores.sexual,\n",
    "                        \"hate\": response.category_scores.hate,\n",
    "                        \"harassment\": response.category_scores.harassment,\n",
    "                        \"self-harm\": response.category_scores.self_harm,\n",
    "                        \"sexual/minors\": response.category_scores.sexual_minors,\n",
    "                        \"hate/threatening\": response.category_scores.hate_threatening,\n",
    "                        \"violence/graphic\": response.category_scores.violence_graphic,\n",
    "                        \"self-harm/intent\": response.category_scores.self_harm_intent,\n",
    "                        \"self-harm/instructions\": response.category_scores.self_harm_instructions,\n",
    "                        \"harassment/threatening\": response.category_scores.harassment_threatening,\n",
    "                        \"violence\": response.category_scores.violence,\n",
    "                    }\n",
    "                    \n",
    "            }\n",
    "    }\n",
    "    json_data.append(entry)\n",
    "\n",
    "# Specify the file path where you want to save the JSON file\n",
    "file_path = \"data_try.json\"\n",
    "\n",
    "# Write the data to the JSON file\n",
    "with open(file_path, \"w\") as outfile:\n",
    "    json.dump(json_data, outfile)\n",
    "\n",
    "print(\"JSON file created successfully.\")"
   ]
  },
  {
   "cell_type": "code",
   "execution_count": 1,
   "metadata": {},
   "outputs": [],
   "source": [
    "from pytube import YouTube\n",
    "\n",
    "def audio_download(link,title,output_path):\n",
    "    try:\n",
    "        yt = YouTube(link)\n",
    "        audio_stream = yt.streams.filter(only_audio=True, file_extension='mp4').first()\n",
    "\n",
    "        if audio_stream:\n",
    "            # Download the audio stream\n",
    "            audio_stream.download(output_path, filename=title + '.mp4')\n",
    "\n",
    "            # Rename the downloaded file to the specified filename\n",
    "            downloaded_file_path = f\"{output_path}/{title}.mp4\"\n",
    "            renamed_file_path = f\"{output_path}/{title}.mp3\"\n",
    "\n",
    "            import os\n",
    "            os.rename(downloaded_file_path, renamed_file_path)\n",
    "\n",
    "            # Display the success message\n",
    "            print(f\"Audio downloaded successfully to: {renamed_file_path} (MP3)\")\n",
    "\n",
    "        else:\n",
    "            print(\"No audio stream available for the provided link.\")\n",
    "\n",
    "    except Exception as e:\n",
    "        print(f\"An error occurred: {e}\")"
   ]
  },
  {
   "cell_type": "code",
   "execution_count": 2,
   "metadata": {},
   "outputs": [
    {
     "name": "stdout",
     "output_type": "stream",
     "text": [
      "Audio downloaded successfully to: audios/How_to_Invest_for_Beginners.mp3 (MP3)\n",
      "Audio downloaded successfully to: audios/9_Passive_Income_Ideas__How_I_Make_$27k_per_Week.mp3 (MP3)\n",
      "Audio downloaded successfully to: audios/The_Book_That_Changed_How_I_Spend_Money.mp3 (MP3)\n",
      "Audio downloaded successfully to: audios/5_Financial_Mistakes_I've_Made_In_The_Last_10_Years.mp3 (MP3)\n",
      "Audio downloaded successfully to: audios/7_Side_Hustles_You_Can_Start_in_2022.mp3 (MP3)\n",
      "Audio downloaded successfully to: audios/Bitcoin_for_Beginners_(2022).mp3 (MP3)\n",
      "Audio downloaded successfully to: audios/How_To_Make_Money_Online__The_3_Levels.mp3 (MP3)\n",
      "Audio downloaded successfully to: audios/How_to_make_money_on_YouTube_in_2021_(and_how_much_I_earn).mp3 (MP3)\n",
      "Audio downloaded successfully to: audios/Bitcoin_for_Beginners_(2022).mp3 (MP3)\n",
      "Audio downloaded successfully to: audios/The_Book_That_Changed_My_Relationship_With_Money.mp3 (MP3)\n",
      "Audio downloaded successfully to: audios/How_To_Make_Money_Online__The_3_Levels.mp3 (MP3)\n",
      "Audio downloaded successfully to: audios/How_I_Built_a_Million_Dollar_Business_in_Medical_School__10_Tips_for_Entrepreneurs.mp3 (MP3)\n",
      "Audio downloaded successfully to: audios/How_to_Invest_as_a_Teenager.mp3 (MP3)\n"
     ]
    }
   ],
   "source": [
    "import pandas as pd \n",
    "\n",
    "data = pd.read_json(\"videoData.json\")\n",
    "output_path = \"audios\"\n",
    "\n",
    "# Iterate over the rows of the DataFrame\n",
    "for index, row in data.iterrows():\n",
    "    link = row['link']\n",
    "    title = row['title']\n",
    "    title = title.replace(\" \",\"_\")\n",
    "    title = title.replace(\"-\",\"\")\n",
    "\n",
    "    audio_download(link,title,output_path)"
   ]
  },
  {
   "cell_type": "code",
   "execution_count": 5,
   "metadata": {},
   "outputs": [
    {
     "name": "stderr",
     "output_type": "stream",
     "text": [
      "/Users/shariqaftab/Documents/YouReply/youreply-AI/youreplyAI/lib/python3.10/site-packages/whisper/transcribe.py:115: UserWarning: FP16 is not supported on CPU; using FP32 instead\n",
      "  warnings.warn(\"FP16 is not supported on CPU; using FP32 instead\")\n",
      "/Users/shariqaftab/Documents/YouReply/youreply-AI/youreplyAI/lib/python3.10/site-packages/whisper/transcribe.py:115: UserWarning: FP16 is not supported on CPU; using FP32 instead\n",
      "  warnings.warn(\"FP16 is not supported on CPU; using FP32 instead\")\n",
      "/Users/shariqaftab/Documents/YouReply/youreply-AI/youreplyAI/lib/python3.10/site-packages/whisper/transcribe.py:115: UserWarning: FP16 is not supported on CPU; using FP32 instead\n",
      "  warnings.warn(\"FP16 is not supported on CPU; using FP32 instead\")\n",
      "/Users/shariqaftab/Documents/YouReply/youreply-AI/youreplyAI/lib/python3.10/site-packages/whisper/transcribe.py:115: UserWarning: FP16 is not supported on CPU; using FP32 instead\n",
      "  warnings.warn(\"FP16 is not supported on CPU; using FP32 instead\")\n",
      "/Users/shariqaftab/Documents/YouReply/youreply-AI/youreplyAI/lib/python3.10/site-packages/whisper/transcribe.py:115: UserWarning: FP16 is not supported on CPU; using FP32 instead\n",
      "  warnings.warn(\"FP16 is not supported on CPU; using FP32 instead\")\n",
      "/Users/shariqaftab/Documents/YouReply/youreply-AI/youreplyAI/lib/python3.10/site-packages/whisper/transcribe.py:115: UserWarning: FP16 is not supported on CPU; using FP32 instead\n",
      "  warnings.warn(\"FP16 is not supported on CPU; using FP32 instead\")\n",
      "/Users/shariqaftab/Documents/YouReply/youreply-AI/youreplyAI/lib/python3.10/site-packages/whisper/transcribe.py:115: UserWarning: FP16 is not supported on CPU; using FP32 instead\n",
      "  warnings.warn(\"FP16 is not supported on CPU; using FP32 instead\")\n",
      "/Users/shariqaftab/Documents/YouReply/youreply-AI/youreplyAI/lib/python3.10/site-packages/whisper/transcribe.py:115: UserWarning: FP16 is not supported on CPU; using FP32 instead\n",
      "  warnings.warn(\"FP16 is not supported on CPU; using FP32 instead\")\n",
      "/Users/shariqaftab/Documents/YouReply/youreply-AI/youreplyAI/lib/python3.10/site-packages/whisper/transcribe.py:115: UserWarning: FP16 is not supported on CPU; using FP32 instead\n",
      "  warnings.warn(\"FP16 is not supported on CPU; using FP32 instead\")\n",
      "/Users/shariqaftab/Documents/YouReply/youreply-AI/youreplyAI/lib/python3.10/site-packages/whisper/transcribe.py:115: UserWarning: FP16 is not supported on CPU; using FP32 instead\n",
      "  warnings.warn(\"FP16 is not supported on CPU; using FP32 instead\")\n",
      "/Users/shariqaftab/Documents/YouReply/youreply-AI/youreplyAI/lib/python3.10/site-packages/whisper/transcribe.py:115: UserWarning: FP16 is not supported on CPU; using FP32 instead\n",
      "  warnings.warn(\"FP16 is not supported on CPU; using FP32 instead\")\n"
     ]
    },
    {
     "ename": "NameError",
     "evalue": "name 'json' is not defined",
     "output_type": "error",
     "traceback": [
      "\u001b[0;31m---------------------------------------------------------------------------\u001b[0m",
      "\u001b[0;31mNameError\u001b[0m                                 Traceback (most recent call last)",
      "Cell \u001b[0;32mIn[5], line 17\u001b[0m\n\u001b[1;32m     15\u001b[0m \u001b[38;5;66;03m# Write the data to the JSON file\u001b[39;00m\n\u001b[1;32m     16\u001b[0m \u001b[38;5;28;01mwith\u001b[39;00m \u001b[38;5;28mopen\u001b[39m(file_path, \u001b[38;5;124m\"\u001b[39m\u001b[38;5;124mw\u001b[39m\u001b[38;5;124m\"\u001b[39m) \u001b[38;5;28;01mas\u001b[39;00m json_file:\n\u001b[0;32m---> 17\u001b[0m     \u001b[43mjson\u001b[49m\u001b[38;5;241m.\u001b[39mdump(data, json_file)\n",
      "\u001b[0;31mNameError\u001b[0m: name 'json' is not defined"
     ]
    }
   ],
   "source": [
    "import whisper\n",
    "import os\n",
    "\n",
    "model = whisper.load_model(\"base\")\n",
    "list_transcript = []\n",
    "\n",
    "audio_list = os.listdir(\"audios\")\n",
    "for audio in audio_list:\n",
    "    result = model.transcribe(os.path.join(\"audios\",audio))\n",
    "    list_transcript.append(result[\"text\"])\n",
    "\n",
    "# Specify the file path where you want to save the JSON file\n",
    "file_path = \"transcript.json\"\n",
    "\n",
    "# Write the data to the JSON file\n",
    "with open(file_path, \"w\") as json_file:\n",
    "    json.dump(data, json_file)"
   ]
  },
  {
   "cell_type": "code",
   "execution_count": 7,
   "metadata": {},
   "outputs": [],
   "source": [
    "import json\n",
    "\n",
    "# Specify the file path where you want to save the JSON file\n",
    "file_path = \"transcript.json\"\n",
    "\n",
    "# Write the data to the JSON file\n",
    "with open(file_path, \"w\") as json_file:\n",
    "    json.dump(list_transcript, json_file)"
   ]
  },
  {
   "cell_type": "code",
   "execution_count": null,
   "metadata": {},
   "outputs": [],
   "source": []
  }
 ],
 "metadata": {
  "kernelspec": {
   "display_name": "youreplyAI",
   "language": "python",
   "name": "python3"
  },
  "language_info": {
   "codemirror_mode": {
    "name": "ipython",
    "version": 3
   },
   "file_extension": ".py",
   "mimetype": "text/x-python",
   "name": "python",
   "nbconvert_exporter": "python",
   "pygments_lexer": "ipython3",
   "version": "3.10.0"
  }
 },
 "nbformat": 4,
 "nbformat_minor": 2
}
